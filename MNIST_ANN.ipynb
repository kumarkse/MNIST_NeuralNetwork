{
  "nbformat": 4,
  "nbformat_minor": 0,
  "metadata": {
    "colab": {
      "provenance": []
    },
    "kernelspec": {
      "name": "python3",
      "display_name": "Python 3"
    },
    "language_info": {
      "name": "python"
    }
  },
  "cells": [
    {
      "cell_type": "code",
      "execution_count": 27,
      "metadata": {
        "id": "BOV16VdMmZp3"
      },
      "outputs": [],
      "source": [
        "import numpy as np\n",
        "import pandas as pd\n",
        "import matplotlib.pyplot as plt\n",
        "import seaborn as sns\n",
        "import cv2\n",
        "#only for colab\n",
        "from google.colab.patches import cv2_imshow\n",
        "from PIL import Image\n",
        "import tensorflow as tf\n",
        "tf.random.set_seed(3)\n",
        "from tensorflow import keras\n",
        "from keras import Sequential,layers\n",
        "from keras.layers import Dense,Flatten\n",
        "from keras.datasets import mnist\n",
        "from tensorflow.math import confusion_matrix"
      ]
    },
    {
      "cell_type": "code",
      "source": [
        "(X_train,y_train),(X_test,y_test) = mnist.load_data()"
      ],
      "metadata": {
        "id": "i7nG1zTO-KUw"
      },
      "execution_count": 28,
      "outputs": []
    },
    {
      "cell_type": "code",
      "source": [
        "print(X_train.shape,X_test.shape,y_train.shape,y_test.shape)"
      ],
      "metadata": {
        "colab": {
          "base_uri": "https://localhost:8080/"
        },
        "id": "Y1Ofw0Zv-nHH",
        "outputId": "08dc6823-c204-4395-818a-5f7d78516e56"
      },
      "execution_count": 29,
      "outputs": [
        {
          "output_type": "stream",
          "name": "stdout",
          "text": [
            "(60000, 28, 28) (10000, 28, 28) (60000,) (10000,)\n"
          ]
        }
      ]
    },
    {
      "cell_type": "code",
      "source": [
        "plt.imshow(X_train[50])\n",
        "print(y_train[50])"
      ],
      "metadata": {
        "colab": {
          "base_uri": "https://localhost:8080/",
          "height": 447
        },
        "id": "4rdp97_i-siT",
        "outputId": "cf09754d-7139-4811-a21f-81ccc4b3f650"
      },
      "execution_count": 30,
      "outputs": [
        {
          "output_type": "stream",
          "name": "stdout",
          "text": [
            "3\n"
          ]
        },
        {
          "output_type": "display_data",
          "data": {
            "text/plain": [
              "<Figure size 640x480 with 1 Axes>"
            ],
            "image/png": "[encoded data removed]"
          },
          "metadata": {}
        }
      ]
    },
    {
      "cell_type": "code",
      "source": [
        "np.unique(y_train)"
      ],
      "metadata": {
        "colab": {
          "base_uri": "https://localhost:8080/"
        },
        "id": "hbi4stDz_JJh",
        "outputId": "d892135a-208b-4117-9745-77354a6b2425"
      },
      "execution_count": 31,
      "outputs": [
        {
          "output_type": "execute_result",
          "data": {
            "text/plain": [
              "array([0, 1, 2, 3, 4, 5, 6, 7, 8, 9], dtype=uint8)"
            ]
          },
          "metadata": {},
          "execution_count": 31
        }
      ]
    },
    {
      "cell_type": "code",
      "source": [
        "model = Sequential()\n",
        "model.add(Flatten(input_shape=(28,28)))\n",
        "model.add(Dense(50,activation='relu'))\n",
        "model.add(Dense(50,activation='relu'))\n",
        "model.add(Dense(10,activation='sigmoid'))\n",
        "\n",
        "model.compile(\n",
        "    optimizer='adam',\n",
        "    metrics=['accuracy'],\n",
        "    loss='sparse_categorical_crossentropy'\n",
        ")\n",
        "\n",
        "model.fit(X_train,y_train,epochs=10)\n"
      ],
      "metadata": {
        "colab": {
          "base_uri": "https://localhost:8080/"
        },
        "id": "dM6oB5n2AGCs",
        "outputId": "4a3ee9a2-9394-42de-847e-056f7b25ccb1"
      },
      "execution_count": 32,
      "outputs": [
        {
          "output_type": "stream",
          "name": "stdout",
          "text": [
            "Epoch 1/10\n",
            "1875/1875 [==============================] - 8s 4ms/step - loss: 1.9575 - accuracy: 0.7913\n",
            "Epoch 2/10\n",
            "1875/1875 [==============================] - 8s 4ms/step - loss: 0.4365 - accuracy: 0.8927\n",
            "Epoch 3/10\n",
            "1875/1875 [==============================] - 6s 3ms/step - loss: 0.3646 - accuracy: 0.9114\n",
            "Epoch 4/10\n",
            "1875/1875 [==============================] - 7s 4ms/step - loss: 0.3255 - accuracy: 0.9204\n",
            "Epoch 5/10\n",
            "1875/1875 [==============================] - 6s 3ms/step - loss: 0.2980 - accuracy: 0.9278\n",
            "Epoch 6/10\n",
            "1875/1875 [==============================] - 7s 4ms/step - loss: 0.2687 - accuracy: 0.9333\n",
            "Epoch 7/10\n",
            "1875/1875 [==============================] - 6s 3ms/step - loss: 0.2471 - accuracy: 0.9370\n",
            "Epoch 8/10\n",
            "1875/1875 [==============================] - 7s 4ms/step - loss: 0.2197 - accuracy: 0.9438\n",
            "Epoch 9/10\n",
            "1875/1875 [==============================] - 6s 3ms/step - loss: 0.1969 - accuracy: 0.9472\n",
            "Epoch 10/10\n",
            "1875/1875 [==============================] - 7s 4ms/step - loss: 0.1798 - accuracy: 0.9504\n"
          ]
        },
        {
          "output_type": "execute_result",
          "data": {
            "text/plain": [
              "<keras.src.callbacks.History at 0x7a8ce11f2c80>"
            ]
          },
          "metadata": {},
          "execution_count": 32
        }
      ]
    },
    {
      "cell_type": "code",
      "source": [
        "loss,accuracy  = model.evaluate(X_test,y_test)\n",
        "print(accuracy)"
      ],
      "metadata": {
        "colab": {
          "base_uri": "https://localhost:8080/"
        },
        "id": "PHM6go97DPJK",
        "outputId": "47de60e2-e692-4ef6-a2e6-1ac38260e215"
      },
      "execution_count": 34,
      "outputs": [
        {
          "output_type": "stream",
          "name": "stdout",
          "text": [
            "313/313 [==============================] - 4s 11ms/step - loss: 0.2290 - accuracy: 0.9442\n",
            "0.9441999793052673\n"
          ]
        }
      ]
    },
    {
      "cell_type": "code",
      "source": [
        "plt.imshow(X_test[0])\n"
      ],
      "metadata": {
        "colab": {
          "base_uri": "https://localhost:8080/",
          "height": 447
        },
        "id": "iozOGVxOGKyd",
        "outputId": "218cf6c9-7def-4af3-d096-7362071fe867"
      },
      "execution_count": 35,
      "outputs": [
        {
          "output_type": "execute_result",
          "data": {
            "text/plain": [
              "<matplotlib.image.AxesImage at 0x7a8cdd8cbc70>"
            ]
          },
          "metadata": {},
          "execution_count": 35
        },
        {
          "output_type": "display_data",
          "data": {
            "text/plain": [
              "<Figure size 640x480 with 1 Axes>"
            ],
            "image/png": "[encoded data removed]"
          },
          "metadata": {}
        }
      ]
    },
    {
      "cell_type": "code",
      "source": [
        "y_test[0]"
      ],
      "metadata": {
        "colab": {
          "base_uri": "https://localhost:8080/"
        },
        "id": "liEZMR2GGdIU",
        "outputId": "338fa145-f162-4571-b1b5-e4d7fdc4dc5e"
      },
      "execution_count": 37,
      "outputs": [
        {
          "output_type": "execute_result",
          "data": {
            "text/plain": [
              "7"
            ]
          },
          "metadata": {},
          "execution_count": 37
        }
      ]
    },
    {
      "cell_type": "code",
      "source": [
        "y_pred  = model.predict(X_test)"
      ],
      "metadata": {
        "colab": {
          "base_uri": "https://localhost:8080/"
        },
        "id": "sWzKo-NQGfsg",
        "outputId": "3971085a-34b2-4c89-fde7-84a5613e3918"
      },
      "execution_count": 38,
      "outputs": [
        {
          "output_type": "stream",
          "name": "stdout",
          "text": [
            "313/313 [==============================] - 1s 4ms/step\n"
          ]
        }
      ]
    },
    {
      "cell_type": "code",
      "source": [
        "y_pred = [np.argmax(i) for i in y_pred]\n",
        "print(y_pred)"
      ],
      "metadata": {
        "colab": {
          "base_uri": "https://localhost:8080/"
        },
        "id": "3oHXhZx2G_ZI",
        "outputId": "9323f08e-2623-49ac-9e6c-c575425b5580"
      },
      "execution_count": 39,
      "outputs": [
        {
          "output_type": "stream",
          "name": "stdout",
          "text": [
            "[2, 2, 1, 0, 4, 1, 4, 9, 4, 9, 0, 6, 9, 0, 1, 3, 9, 7, 3, 4, 9, 8, 0, 5, 4, 0, 1, 4, 0, 1, 3, 1, 3, 4, 7, 2, 1, 1, 3, 1, 1, 1, 4, 2, 3, 5, 1, 2, 4, 4, 0, 3, 5, 5, 6, 0, 4, 1, 9, 5, 0, 2, 9, 3, 1, 4, 6, 4, 3, 0, 1, 0, 2, 9, 1, 2, 3, 2, 9, 7, 7, 6, 2, 7, 8, 4, 1, 3, 0, 1, 3, 0, 9, 3, 1, 4, 1, 1, 6, 9, 0, 0, 5, 4, 9, 9, 2, 1, 9, 4, 8, 7, 3, 9, 2, 4, 4, 4, 9, 2, 3, 4, 7, 0, 1, 9, 0, 5, 8, 5, 0, 5, 3, 2, 8, 1, 0, 1, 0, 4, 0, 1, 3, 1, 1, 1, 8, 2, 0, 9, 9, 8, 5, 5, 1, 3, 2, 0, 3, 4, 4, 0, 5, 4, 2, 3, 4, 5, 1, 4, 4, 7, 2, 3, 2, 7, 1, 8, 1, 8, 1, 8, 5, 0, 8, 9, 2, 5, 0, 1, 1, 1, 0, 9, 0, 5, 1, 6, 4, 2, 3, 0, 1, 1, 1, 3, 9, 3, 2, 9, 4, 8, 9, 3, 9, 0, 3, 5, 5, 3, 7, 2, 2, 1, 1, 2, 8, 4, 1, 7, 3, 3, 8, 8, 7, 9, 2, 2, 4, 1, 5, 3, 8, 2, 2, 3, 0, 2, 4, 2, 4, 1, 9, 5, 1, 7, 2, 8, 2, 0, 8, 5, 1, 1, 9, 1, 8, 1, 8, 0, 3, 0, 1, 9, 9, 4, 1, 8, 2, 1, 2, 9, 7, 5, 9, 2, 6, 4, 1, 5, 8, 1, 9, 2, 0, 4, 0, 0, 2, 8, 4, 1, 1, 2, 4, 0, 2, 7, 4, 3, 3, 0, 0, 3, 1, 9, 6, 0, 2, 3, 9, 7, 9, 3, 0, 4, 2, 0, 2, 1, 1, 2, 1, 5, 3, 3, 9, 3, 8, 6, 3, 6, 1, 3, 8, 1, 0, 5, 1, 3, 1, 3, 8, 0, 1, 8, 3, 1, 7, 4, 4, 6, 2, 2, 5, 0, 4, 3, 6, 3, 7, 2, 0, 8, 8, 3, 4, 1, 1, 4, 0, 3, 3, 7, 0, 1, 6, 2, 1, 9, 2, 8, 0, 1, 9, 5, 2, 5, 4, 4, 2, 8, 2, 8, 2, 4, 5, 0, 3, 1, 1, 7, 3, 1, 9, 7, 1, 9, 2, 1, 4, 2, 9, 2, 0, 4, 9, 1, 4, 8, 1, 8, 4, 5, 9, 8, 8, 3, 7, 6, 0, 0, 3, 0, 2, 0, 6, 4, 8, 3, 3, 3, 2, 3, 9, 0, 2, 6, 8, 0, 5, 0, 6, 0, 3, 8, 8, 2, 7, 5, 8, 9, 0, 1, 8, 4, 1, 2, 8, 3, 1, 9, 2, 0, 4, 0, 8, 9, 7, 1, 0, 5, 2, 3, 1, 8, 9, 4, 0, 6, 3, 9, 3, 2, 1, 3, 1, 8, 6, 5, 7, 4, 2, 2, 0, 3, 2, 0, 5, 4, 8, 4, 3, 1, 3, 0, 3, 8, 3, 1, 9, 3, 4, 4, 6, 4, 2, 1, 8, 2, 3, 4, 8, 5, 1, 0, 0, 2, 3, 2, 7, 7, 0, 8, 1, 4, 4, 2, 9, 0, 9, 0, 9, 8, 0, 4, 6, 0, 8, 3, 5, 4, 8, 3, 3, 9, 3, 3, 7, 7, 8, 0, 2, 8, 1, 7, 0, 6, 3, 4, 3, 8, 0, 9, 6, 3, 8, 0, 9, 9, 6, 8, 0, 8, 5, 3, 8, 0, 0, 2, 0, 0, 2, 2, 3, 1, 9, 1, 3, 8, 0, 8, 4, 2, 2, 0, 1, 9, 3, 3, 9, 8, 2, 2, 9, 2, 0, 2, 3, 9, 1, 8, 0, 2, 0, 5, 2, 1, 3, 7, 1, 1, 1, 2, 3, 8, 0, 3, 0, 8, 4, 0, 9, 1, 8, 0, 7, 7, 4, 3, 4, 9, 1, 9, 3, 1, 2, 3, 9, 7, 2, 9, 1, 3, 7, 8, 3, 3, 6, 7, 2, 4, 9, 8, 5, 1, 1, 4, 4, 3, 1, 0, 7, 2, 0, 1, 9, 9, 4, 8, 5, 5, 4, 0, 8, 2, 4, 6, 8, 4, 8, 0, 4, 0, 2, 1, 5, 3, 2, 6, 2, 2, 0, 9, 3, 1, 4, 0, 2, 3, 9, 2, 0, 0, 2, 1, 1, 3, 4, 1, 0, 3, 4, 3, 1, 1, 7, 4, 9, 9, 9, 8, 4, 0, 2, 4, 5, 1, 1, 6, 4, 7, 1, 9, 4, 2, 1, 1, 3, 5, 3, 8, 3, 1, 4, 3, 5, 8, 9, 4, 1, 5, 3, 8, 0, 3, 2, 5, 1, 2, 8, 3, 4, 4, 0, 8, 8, 3, 3, 1, 2, 3, 3, 9, 6, 3, 2, 0, 1, 3, 5, 0, 1, 2, 1, 1, 1, 4, 2, 8, 2, 1, 1, 9, 6, 1, 1, 2, 4, 3, 1, 7, 7, 4, 7, 0, 7, 3, 1, 3, 1, 0, 7, 7, 0, 3, 5, 5, 2, 7, 0, 6, 9, 2, 8, 3, 5, 2, 2, 5, 6, 0, 8, 2, 9, 2, 8, 8, 8, 8, 2, 9, 9, 5, 0, 6, 0, 3, 2, 1, 3, 2, 2, 9, 3, 0, 0, 5, 7, 8, 1, 4, 4, 6, 0, 2, 9, 1, 4, 1, 4, 3, 3, 9, 8, 8, 4, 1, 1, 2, 1, 2, 2, 3, 7, 3, 8, 3, 9, 1, 7, 4, 0, 3, 5, 5, 8, 0, 5, 8, 6, 1, 0, 6, 3, 2, 7, 9, 1, 1, 3, 5, 6, 4, 9, 5, 2, 3, 3, 9, 2, 8, 9, 1, 1, 0, 9, 1, 4, 4, 5, 4, 0, 0, 2, 2, 3, 0, 5, 1, 2, 0, 2, 8, 1, 2, 6, 7, 1, 6, 2, 3, 9, 0, 1, 2, 2, 0, 8, 7, 9, 0, 2, 3, 1, 9, 1, 8, 1, 0, 4, 1, 7, 9, 5, 4, 2, 2, 8, 1, 3, 1, 5, 4, 4, 1, 8, 1, 3, 8, 1, 1, 8, 8, 0, 0, 2, 1, 1, 9, 1, 3, 3, 4, 8, 9, 5, 0, 9, 2, 3, 4, 8, 2, 1, 7, 2, 4, 9, 4, 4, 0, 7, 9, 2, 2, 3, 3, 8, 3, 3, 7, 3, 5, 8, 1, 2, 4, 4, 0, 4, 9, 5, 1, 0, 6, 9, 5, 9, 3, 9, 1, 3, 8, 0, 3, 7, 1, 3, 6, 1, 8, 3, 9, 7, 9, 0, 3, 6, 2, 1, 4, 2, 5, 8, 5, 4, 7, 8, 7, 8, 0, 7, 0, 8, 8, 7, 3, 3, 1, 9, 5, 2, 7, 3, 5, 1, 1, 2, 0, 4, 2, 4, 1, 3, 4, 5, 4, 0, 8, 3, 6, 9, 6, 0, 2, 3, 4, 4, 4, 4, 6, 0, 4, 7, 9, 3, 4, 5, 5, 8, 1, 3, 7, 2, 7, 0, 2, 4, 1, 1, 1, 8, 9, 2, 8, 0, 2, 0, 1, 3, 8, 4, 1, 3, 0, 6, 0, 4, 6, 8, 1, 5, 0, 3, 3, 2, 2, 8, 6, 2, 1, 8, 1, 0, 3, 7, 9, 0, 8, 0, 5, 4, 0, 2, 8, 2, 2, 9, 8, 4, 0, 4, 5, 8, 5, 1, 2, 1, 3, 1, 7, 4, 5, 2, 2, 0, 2, 8, 8, 6, 2, 5, 4, 1, 9, 2, 1, 5, 8, 1, 0, 2, 4, 4, 3, 6, 8, 8, 2, 4, 0, 5, 0, 4, 4, 1, 9, 3, 4, 1, 0, 9, 2, 3, 5, 8, 8, 0, 5, 5, 2, 5, 6, 0, 1, 6, 0, 3, 3, 4, 4, 1, 2, 9, 1, 4, 6, 9, 9, 3, 4, 8, 4, 4, 3, 0, 3, 1, 3, 8, 7, 9, 4, 8, 8, 8, 9, 9, 1, 4, 5, 0, 0, 5, 2, 2, 6, 1, 3, 5, 2, 4, 9, 6, 0, 1, 7, 2, 2, 1, 1, 2, 8, 3, 7, 2, 4, 1, 2, 1, 7, 0, 7, 8, 2, 1, 3, 1, 1, 5, 8, 2, 0, 2, 2, 5, 6, 5, 0, 9, 2, 4, 3, 3, 9, 7, 0, 1, 8, 0, 8, 1, 3, 8, 2, 9, 1, 8, 0, 4, 7, 2, 1, 0, 5, 5, 2, 0, 2, 2, 8, 2, 4, 9, 8, 0, 9, 9, 4, 6, 5, 4, 9, 1, 8, 3, 4, 9, 4, 1, 2, 2, 8, 1, 9, 6, 4, 0, 9, 4, 8, 3, 8, 4, 0, 2, 5, 1, 9, 0, 2, 9, 4, 0, 9, 6, 0, 0, 2, 5, 4, 2, 3, 8, 4, 5, 9, 0, 5, 8, 5, 3, 5, 8, 6, 5, 7, 6, 3, 3, 9, 6, 1, 1, 2, 9, 0, 4, 3, 3, 4, 9, 5, 8, 3, 7, 0, 1, 8, 1, 9, 8, 3, 0, 7, 2, 7, 9, 4, 5, 4, 9, 3, 2, 1, 4, 0, 2, 3, 7, 5, 9, 8, 8, 8, 0, 6, 1, 4, 7, 3, 9, 0, 0, 0, 6, 6, 2, 3, 1, 8, 4, 2, 1, 9, 2, 4, 1, 0, 5, 2, 4, 3, 9, 1, 8, 4, 0, 3, 8, 4, 8, 7, 1, 0, 7, 8, 8, 4, 6, 4, 8, 8, 2, 4, 7, 2, 6, 6, 4, 7, 1, 8, 8, 2, 3, 6, 3, 0, 0, 3, 2, 6, 9, 7, 9, 9, 3, 4, 3, 1, 8, 1, 2, 3, 7, 3, 3, 6, 0, 3, 3, 8, 4, 3, 6, 3, 5, 0, 2, 0, 9, 0, 1, 4, 5, 9, 3, 5, 1, 9, 4, 1, 4, 5, 1, 5, 0, 5, 4, 8, 2, 1, 2, 9, 1, 9, 9, 4, 0, 8, 4, 1, 2, 9, 2, 1, 2, 1, 7, 3, 6, 2, 8, 4, 9, 1, 9, 8, 5, 3, 5, 1, 1, 8, 6, 5, 0, 4, 4, 7, 2, 3, 5, 2, 8, 8, 6, 2, 3, 1, 0, 5, 8, 9, 8, 9, 0, 3, 0, 4, 8, 7, 1, 7, 4, 1, 0, 3, 7, 2, 0, 0, 9, 1, 7, 0, 7, 8, 4, 7, 0, 0, 4, 6, 0, 1, 1, 0, 5, 3, 8, 0, 2, 4, 1, 3, 3, 0, 8, 7, 3, 9, 0, 9, 3, 0, 0, 2, 2, 2, 5, 1, 2, 3, 8, 0, 8, 8, 1, 5, 0, 3, 0, 3, 1, 4, 0, 3, 1, 2, 2, 1, 8, 0, 7, 0, 4, 3, 1, 9, 8, 1, 2, 1, 4, 9, 9, 3, 9, 1, 1, 9, 0, 2, 0, 3, 3, 1, 0, 9, 2, 3, 3, 1, 7, 0, 0, 7, 5, 2, 9, 8, 7, 4, 4, 2, 6, 6, 1, 9, 6, 8, 2, 9, 0, 8, 5, 1, 1, 6, 3, 5, 1, 1, 1, 3, 1, 2, 3, 0, 2, 0, 1, 3, 5, 5, 1, 4, 8, 4, 6, 9, 0, 8, 3, 2, 6, 8, 5, 1, 4, 2, 4, 9, 5, 1, 1, 9, 0, 2, 4, 9, 5, 7, 1, 8, 3, 5, 0, 9, 8, 7, 1, 1, 6, 7, 6, 3, 2, 2, 0, 8, 9, 2, 5, 1, 0, 8, 1, 4, 5, 2, 4, 0, 9, 0, 4, 1, 5, 5, 8, 3, 8, 2, 6, 5, 0, 1, 4, 0, 1, 3, 4, 1, 3, 2, 3, 4, 4, 5, 2, 2, 1, 1, 2, 6, 4, 1, 1, 8, 8, 6, 0, 1, 8, 2, 5, 7, 1, 0, 5, 3, 8, 8, 4, 2, 4, 0, 8, 8, 3, 4, 9, 2, 0, 5, 8, 6, 5, 5, 0, 8, 6, 7, 5, 5, 4, 9, 4, 4, 6, 3, 8, 4, 1, 0, 1, 4, 0, 2, 9, 1, 1, 0, 6, 3, 9, 5, 6, 5, 0, 5, 8, 4, 6, 4, 3, 9, 1, 3, 4, 1, 9, 1, 2, 1, 1, 9, 3, 5, 4, 0, 9, 3, 0, 1, 9, 5, 5, 3, 3, 0, 1, 3, 4, 3, 8, 0, 5, 1, 0, 8, 7, 3, 4, 1, 7, 4, 8, 1, 8, 4, 9, 2, 8, 0, 2, 7, 0, 0, 0, 7, 5, 8, 6, 0, 9, 3, 9, 1, 3, 5, 4, 3, 3, 3, 5, 6, 3, 0, 2, 3, 4, 2, 3, 0, 9, 4, 4, 0, 2, 1, 4, 7, 0, 0, 0, 8, 5, 2, 8, 5, 7, 3, 0, 8, 2, 9, 2, 8, 2, 5, 3, 0, 6, 4, 8, 8, 4, 8, 2, 7, 4, 9, 2, 0, 3, 2, 9, 6, 2, 2, 3, 1, 1, 1, 2, 3, 0, 1, 8, 7, 6, 4, 8, 9, 4, 8, 6, 3, 8, 3, 0, 0, 0, 2, 2, 5, 6, 9, 5, 8, 1, 4, 1, 1, 8, 4, 0, 1, 8, 4, 5, 1, 2, 8, 0, 8, 3, 9, 2, 4, 2, 8, 3, 1, 0, 1, 0, 2, 3, 7, 5, 1, 9, 4, 2, 6, 2, 4, 4, 8, 0, 4, 4, 5, 8, 0, 0, 8, 9, 8, 3, 1, 4, 0, 4, 8, 1, 1, 3, 4, 5, 8, 0, 9, 1, 3, 3, 0, 9, 8, 1, 1, 0, 5, 2, 1, 1, 5, 2, 1, 9, 1, 8, 5, 2, 4, 9, 4, 1, 2, 2, 3, 4, 9, 1, 9, 2, 1, 7, 9, 4, 4, 8, 1, 7, 2, 7, 8, 0, 1, 9, 7, 1, 1, 1, 3, 3, 3, 5, 1, 3, 1, 6, 1, 3, 8, 7, 5, 8, 2, 0, 0, 2, 8, 8, 2, 3, 7, 1, 3, 0, 3, 4, 4, 3, 8, 9, 2, 3, 9, 7, 1, 1, 3, 0, 4, 9, 2, 5, 9, 1, 7, 0, 2, 0, 0, 4, 6, 1, 5, 2, 1, 4, 0, 4, 5, 4, 9, 9, 7, 1, 9, 5, 3, 3, 8, 2, 3, 2, 2, 2, 1, 1, 1, 1, 1, 0, 9, 8, 4, 3, 0, 1, 6, 4, 4, 0, 9, 7, 4, 2, 4, 0, 2, 0, 1, 8, 8, 8, 0, 0, 0, 4, 1, 6, 8, 2, 2, 3, 3, 4, 8, 2, 2, 1, 1, 3, 4, 4, 0, 4, 3, 1, 1, 8, 1, 0, 1, 2, 3, 4, 2, 1, 0, 1, 8, 9, 1, 4, 8, 5, 3, 4, 3, 6, 2, 8, 3, 2, 1, 1, 0, 4, 2, 9, 2, 4, 3, 1, 9, 1, 5, 2, 9, 8, 0, 3, 8, 1, 3, 8, 6, 9, 4, 0, 2, 8, 0, 2, 7, 4, 0, 0, 8, 2, 6, 8, 2, 9, 1, 2, 2, 5, 9, 9, 0, 7, 2, 1, 0, 7, 0, 0, 5, 8, 4, 7, 2, 0, 9, 9, 2, 2, 9, 4, 4, 2, 3, 3, 2, 1, 7, 0, 7, 0, 4, 1, 3, 8, 1, 4, 3, 8, 2, 3, 1, 8, 7, 3, 7, 1, 5, 5, 0, 9, 0, 4, 0, 6, 3, 5, 0, 0, 4, 9, 7, 0, 1, 2, 8, 9, 5, 5, 1, 9, 3, 8, 3, 8, 1, 5, 3, 5, 0, 3, 5, 3, 8, 6, 2, 7, 1, 3, 1, 0, 5, 9, 0, 2, 5, 5, 3, 1, 7, 7, 8, 6, 5, 9, 3, 8, 9, 3, 3, 2, 9, 1, 7, 0, 0, 3, 1, 2, 5, 2, 1, 8, 6, 2, 9, 5, 1, 5, 1, 8, 6, 2, 5, 1, 4, 8, 4, 5, 8, 3, 0, 5, 1, 1, 3, 3, 2, 1, 0, 7, 3, 4, 0, 3, 9, 3, 0, 8, 9, 0, 3, 8, 0, 7, 6, 5, 4, 1, 3, 0, 0, 8, 6, 2, 5, 1, 1, 0, 0, 4, 4, 0, 1, 2, 3, 2, 7, 2, 8, 5, 2, 5, 7, 6, 9, 1, 4, 1, 0, 4, 2, 4, 3, 5, 4, 3, 9, 3, 0, 1, 5, 3, 8, 9, 1, 9, 1, 9, 5, 5, 2, 7, 4, 0, 0, 1, 1, 1, 0, 4, 4, 7, 0, 3, 8, 0, 4, 3, 0, 6, 1, 4, 2, 1, 3, 8, 1, 2, 5, 0, 2, 7, 3, 6, 0, 1, 9, 7, 0, 0, 8, 9, 2, 9, 8, 8, 3, 1, 0, 0, 0, 6, 6, 2, 1, 0, 9, 2, 1, 8, 0, 9, 0, 6, 0, 0, 0, 6, 3, 5, 9, 3, 4, 5, 5, 8, 5, 3, 0, 4, 0, 3, 9, 6, 8, 2, 3, 1, 2, 1, 1, 5, 0, 9, 8, 0, 0, 6, 0, 3, 3, 8, 0, 2, 1, 4, 5, 4, 3, 7, 8, 5, 0, 9, 3, 5, 1, 1, 0, 4, 4, 7, 0, 1, 1, 0, 1, 0, 1, 1, 5, 0, 6, 3, 0, 8, 4, 4, 1, 2, 3, 3, 1, 0, 2, 1, 9, 6, 4, 2, 8, 3, 7, 8, 3, 9, 5, 8, 9, 9, 8, 2, 2, 8, 9, 2, 3, 4, 1, 1, 8, 9, 3, 4, 0, 1, 9, 6, 4, 1, 4, 1, 3, 4, 9, 3, 1, 4, 1, 7, 4, 7, 2, 9, 3, 0, 8, 0, 8, 4, 0, 4, 4, 1, 3, 2, 3, 3, 9, 9, 5, 2, 8, 1, 5, 3, 7, 9, 4, 2, 8, 6, 2, 5, 9, 3, 0, 9, 2, 1, 9, 5, 3, 0, 6, 9, 8, 4, 0, 4, 7, 2, 9, 0, 1, 0, 3, 1, 0, 3, 8, 1, 5, 3, 5, 0, 3, 5, 0, 9, 2, 8, 7, 0, 4, 9, 1, 9, 1, 7, 0, 5, 2, 0, 9, 1, 8, 6, 2, 3, 7, 2, 2, 1, 9, 1, 3, 5, 5, 0, 3, 8, 5, 3, 7, 6, 8, 0, 1, 4, 0, 6, 9, 8, 1, 2, 1, 9, 5, 9, 7, 3, 0, 8, 0, 1, 3, 0, 4, 0, 1, 0, 2, 3, 5, 4, 4, 1, 1, 5, 4, 8, 0, 0, 6, 9, 2, 0, 2, 7, 1, 2, 9, 4, 0, 0, 3, 8, 2, 2, 3, 1, 6, 0, 3, 2, 7, 9, 2, 0, 7, 9, 7, 8, 6, 8, 8, 4, 0, 8, 4, 1, 2, 8, 3, 3, 9, 1, 0, 3, 1, 3, 2, 3, 3, 7, 3, 4, 0, 2, 2, 0, 8, 1, 5, 3, 5, 4, 1, 7, 1, 5, 3, 5, 7, 3, 2, 2, 1, 5, 7, 3, 7, 8, 5, 4, 5, 2, 9, 6, 5, 3, 6, 1, 4, 1, 1, 1, 5, 2, 3, 0, 3, 1, 4, 2, 6, 7, 4, 3, 8, 0, 6, 2, 1, 0, 5, 5, 9, 1, 9, 3, 2, 1, 8, 4, 4, 2, 3, 8, 6, 9, 7, 1, 8, 6, 9, 7, 3, 9, 4, 0, 5, 4, 6, 4, 1, 2, 3, 0, 0, 2, 0, 0, 5, 1, 0, 8, 0, 4, 1, 9, 0, 7, 2, 4, 2, 1, 8, 8, 5, 9, 2, 3, 1, 8, 8, 3, 2, 7, 6, 0, 1, 2, 7, 1, 0, 8, 2, 6, 0, 5, 2, 6, 2, 8, 9, 0, 1, 4, 2, 1, 1, 4, 4, 4, 4, 7, 1, 6, 2, 8, 9, 0, 0, 1, 8, 8, 4, 3, 4, 2, 0, 6, 1, 6, 1, 2, 2, 2, 1, 2, 3, 7, 8, 1, 0, 0, 2, 1, 6, 0, 0, 1, 6, 2, 3, 1, 7, 4, 8, 2, 1, 4, 3, 8, 3, 9, 9, 4, 9, 3, 4, 7, 2, 1, 0, 1, 0, 4, 3, 3, 2, 6, 7, 6, 0, 0, 0, 1, 2, 0, 5, 3, 8, 1, 0, 4, 0, 2, 8, 1, 5, 0, 8, 8, 0, 3, 2, 1, 2, 2, 6, 4, 7, 5, 5, 5, 2, 9, 2, 8, 4, 6, 8, 6, 3, 0, 0, 8, 7, 6, 1, 1, 1, 1, 2, 1, 4, 0, 0, 7, 2, 0, 3, 8, 6, 4, 2, 0, 9, 4, 0, 3, 7, 8, 2, 7, 4, 1, 1, 1, 2, 0, 6, 1, 9, 1, 9, 4, 8, 3, 0, 9, 3, 9, 2, 2, 4, 6, 7, 1, 0, 6, 6, 9, 4, 8, 3, 0, 3, 4, 9, 0, 0, 5, 2, 5, 0, 7, 1, 1, 1, 0, 7, 6, 7, 9, 6, 6, 4, 1, 1, 3, 1, 1, 2, 1, 4, 1, 0, 8, 7, 6, 3, 4, 0, 0, 6, 3, 3, 0, 7, 1, 7, 1, 1, 3, 1, 0, 9, 9, 7, 5, 4, 1, 4, 8, 9, 5, 3, 3, 1, 9, 8, 2, 3, 3, 9, 9, 0, 1, 0, 2, 9, 3, 9, 3, 3, 2, 2, 9, 9, 8, 3, 7, 4, 0, 4, 7, 8, 4, 9, 8, 1, 9, 2, 3, 9, 2, 8, 2, 2, 0, 2, 2, 3, 8, 4, 6, 8, 1, 8, 2, 4, 0, 7, 9, 3, 3, 9, 4, 3, 1, 9, 4, 1, 0, 5, 9, 0, 0, 4, 4, 4, 4, 0, 1, 2, 3, 2, 6, 4, 0, 9, 0, 8, 0, 6, 0, 5, 0, 4, 1, 8, 6, 5, 2, 5, 4, 0, 5, 4, 1, 7, 8, 7, 8, 2, 2, 3, 7, 0, 1, 8, 0, 2, 1, 9, 8, 1, 3, 3, 9, 1, 1, 3, 4, 3, 1, 2, 2, 1, 0, 0, 4, 1, 8, 4, 0, 7, 4, 2, 4, 0, 0, 4, 1, 6, 9, 5, 3, 4, 2, 5, 0, 1, 8, 8, 2, 3, 3, 5, 1, 8, 0, 8, 5, 7, 1, 1, 0, 1, 3, 7, 8, 5, 0, 2, 1, 1, 0, 1, 1, 4, 5, 2, 3, 0, 2, 3, 0, 2, 8, 5, 4, 0, 9, 7, 2, 1, 3, 2, 4, 1, 8, 2, 4, 0, 5, 1, 0, 3, 2, 0, 4, 4, 3, 9, 8, 1, 6, 3, 7, 9, 2, 0, 2, 6, 0, 1, 4, 3, 5, 2, 8, 8, 0, 8, 8, 9, 0, 9, 0, 3, 6, 3, 9, 3, 9, 7, 2, 7, 4, 8, 0, 6, 4, 8, 4, 2, 7, 2, 8, 1, 0, 0, 7, 8, 5, 3, 2, 1, 3, 1, 6, 1, 3, 1, 6, 0, 5, 7, 4, 2, 3, 9, 5, 8, 4, 9, 9, 1, 6, 5, 8, 1, 5, 2, 0, 3, 4, 8, 2, 2, 0, 2, 8, 1, 3, 1, 6, 8, 8, 9, 1, 2, 1, 3, 5, 1, 0, 9, 4, 4, 8, 3, 2, 0, 9, 2, 6, 0, 2, 0, 0, 0, 0, 8, 3, 1, 5, 3, 3, 8, 5, 1, 8, 4, 0, 4, 9, 4, 0, 2, 3, 3, 5, 0, 4, 8, 0, 9, 2, 8, 2, 6, 2, 5, 1, 2, 9, 4, 9, 1, 2, 8, 8, 0, 2, 0, 9, 1, 1, 8, 7, 0, 9, 9, 1, 9, 5, 9, 2, 1, 0, 4, 1, 0, 8, 4, 0, 8, 9, 8, 9, 4, 0, 3, 7, 9, 8, 9, 8, 0, 9, 9, 0, 8, 9, 9, 5, 9, 8, 8, 1, 0, 3, 3, 5, 2, 1, 6, 5, 0, 2, 8, 1, 4, 6, 2, 3, 0, 2, 2, 0, 4, 3, 5, 5, 1, 0, 2, 1, 6, 4, 1, 3, 9, 3, 5, 1, 6, 2, 2, 8, 6, 7, 1, 4, 6, 0, 6, 0, 5, 3, 2, 2, 3, 6, 8, 9, 8, 5, 3, 8, 5, 4, 5, 2, 0, 5, 6, 2, 2, 8, 2, 9, 9, 5, 7, 9, 4, 0, 7, 1, 3, 1, 3, 6, 6, 0, 9, 0, 1, 4, 4, 2, 8, 8, 0, 1, 6, 9, 1, 5, 3, 4, 7, 4, 9, 8, 4, 3, 0, 3, 1, 1, 8, 0, 9, 1, 8, 4, 1, 1, 9, 9, 9, 5, 0, 8, 0, 6, 0, 4, 1, 3, 7, 1, 4, 9, 5, 1, 0, 0, 1, 1, 6, 2, 1, 9, 8, 4, 0, 3, 6, 4, 9, 0, 1, 1, 0, 5, 7, 3, 2, 5, 1, 8, 5, 4, 7, 0, 5, 1, 7, 2, 3, 8, 1, 0, 4, 5, 1, 1, 3, 5, 1, 7, 0, 0, 6, 0, 1, 3, 1, 8, 2, 9, 1, 0, 0, 8, 9, 8, 9, 8, 3, 2, 2, 2, 9, 9, 2, 1, 0, 3, 7, 5, 3, 1, 9, 8, 2, 2, 2, 8, 8, 5, 1, 3, 8, 9, 8, 8, 4, 8, 2, 5, 9, 1, 3, 0, 2, 4, 2, 8, 8, 1, 0, 2, 8, 7, 9, 1, 8, 0, 1, 1, 2, 0, 7, 8, 1, 9, 0, 2, 0, 9, 8, 6, 2, 3, 0, 2, 8, 0, 2, 1, 1, 1, 1, 4, 2, 9, 1, 0, 6, 1, 1, 2, 1, 9, 9, 9, 1, 0, 1, 0, 2, 1, 1, 4, 6, 4, 1, 3, 4, 9, 7, 2, 1, 5, 6, 2, 8, 2, 8, 0, 0, 9, 6, 8, 9, 7, 1, 1, 4, 8, 5, 3, 4, 3, 4, 7, 1, 5, 0, 7, 4, 8, 8, 1, 5, 3, 9, 0, 9, 7, 6, 9, 0, 3, 6, 3, 9, 8, 2, 8, 1, 2, 8, 5, 8, 3, 5, 2, 9, 4, 4, 2, 8, 1, 3, 1, 3, 4, 1, 4, 4, 3, 5, 9, 1, 2, 2, 3, 3, 0, 2, 4, 0, 0, 9, 9, 6, 0, 9, 3, 7, 8, 4, 1, 9, 9, 2, 2, 7, 9, 9, 8, 9, 0, 1, 1, 8, 3, 5, 1, 9, 5, 5, 5, 4, 9, 8, 4, 3, 1, 9, 0, 9, 1, 5, 4, 9, 2, 0, 1, 0, 5, 1, 4, 9, 3, 3, 0, 1, 5, 2, 5, 2, 2, 0, 6, 2, 6, 6, 0, 1, 2, 0, 3, 0, 2, 5, 8, 1, 9, 7, 3, 0, 8, 9, 0, 0, 3, 2, 5, 4, 0, 8, 8, 4, 5, 8, 8, 4, 5, 4, 8, 3, 4, 9, 2, 2, 1, 2, 6, 8, 8, 7, 0, 3, 0, 6, 4, 3, 8, 8, 7, 2, 2, 0, 0, 4, 3, 9, 8, 1, 9, 8, 0, 6, 4, 2, 0, 9, 2, 8, 1, 4, 5, 1, 9, 4, 4, 2, 1, 8, 3, 4, 0, 7, 8, 7, 9, 3, 4, 4, 3, 6, 2, 3, 9, 2, 0, 0, 0, 6, 1, 2, 8, 2, 9, 8, 2, 0, 4, 1, 7, 5, 0, 5, 0, 4, 6, 7, 4, 3, 0, 2, 5, 0, 1, 4, 2, 0, 8, 9, 9, 4, 2, 4, 6, 1, 8, 3, 6, 9, 4, 1, 3, 7, 3, 0, 8, 8, 7, 6, 1, 3, 9, 2, 8, 9, 2, 1, 8, 3, 2, 4, 5, 8, 4, 0, 1, 2, 8, 4, 5, 2, 1, 3, 1, 1, 3, 0, 3, 5, 1, 0, 3, 1, 9, 3, 5, 3, 1, 1, 7, 3, 0, 8, 4, 8, 2, 6, 6, 2, 9, 7, 3, 9, 0, 9, 4, 0, 4, 2, 9, 7, 2, 1, 1, 6, 2, 4, 7, 3, 9, 8, 8, 2, 1, 2, 4, 0, 7, 6, 1, 3, 2, 0, 9, 9, 3, 6, 1, 1, 4, 0, 9, 2, 2, 1, 5, 1, 4, 6, 3, 4, 1, 1, 0, 3, 1, 6, 8, 4, 9, 0, 1, 3, 0, 4, 9, 0, 0, 8, 6, 3, 6, 1, 7, 2, 8, 6, 0, 8, 3, 0, 2, 4, 8, 3, 2, 5, 3, 8, 8, 0, 0, 1, 9, 5, 1, 3, 9, 0, 0, 1, 4, 1, 1, 1, 1, 2, 1, 9, 7, 4, 9, 9, 3, 9, 2, 8, 2, 7, 1, 8, 0, 9, 1, 0, 1, 2, 7, 9, 1, 9, 9, 9, 2, 1, 0, 1, 3, 5, 2, 1, 9, 7, 6, 4, 0, 3, 0, 6, 9, 9, 6, 2, 6, 2, 9, 8, 1, 2, 2, 3, 5, 2, 3, 7, 2, 1, 0, 1, 0, 4, 0, 2, 8, 2, 8, 3, 5, 1, 1, 7, 1, 1, 2, 9, 2, 8, 4, 0, 5, 0, 2, 8, 8, 4, 1, 1, 8, 5, 8, 4, 9, 8, 1, 3, 8, 0, 3, 1, 7, 4, 5, 5, 1, 0, 3, 1, 4, 9, 3, 5, 4, 3, 1, 2, 0, 8, 1, 0, 0, 1, 1, 1, 1, 3, 9, 0, 0, 8, 6, 4, 8, 1, 3, 9, 3, 8, 6, 9, 1, 2, 3, 4, 0, 2, 1, 2, 5, 5, 5, 1, 2, 4, 4, 2, 2, 8, 3, 0, 8, 2, 8, 4, 0, 8, 4, 4, 5, 8, 5, 5, 6, 2, 0, 9, 3, 2, 6, 8, 9, 3, 4, 9, 0, 8, 4, 1, 2, 8, 8, 6, 8, 1, 3, 7, 9, 0, 1, 1, 4, 7, 0, 8, 1, 1, 4, 3, 7, 1, 2, 1, 1, 3, 0, 6, 2, 1, 2, 8, 8, 2, 6, 6, 9, 3, 3, 0, 5, 2, 3, 0, 5, 4, 3, 8, 4, 6, 6, 2, 2, 9, 3, 1, 3, 2, 4, 3, 6, 1, 9, 4, 4, 7, 6, 8, 4, 1, 4, 9, 2, 7, 8, 0, 1, 3, 0, 1, 3, 4, 1, 1, 1, 5, 6, 0, 1, 0, 7, 2, 3, 2, 5, 2, 2, 9, 4, 9, 8, 1, 3, 1, 6, 1, 2, 1, 4, 0, 0, 0, 8, 2, 2, 9, 2, 2, 3, 9, 9, 2, 2, 5, 1, 3, 4, 9, 4, 1, 8, 3, 2, 2, 8, 3, 1, 2, 8, 2, 9, 9, 8, 2, 0, 1, 7, 2, 3, 2, 4, 0, 3, 8, 9, 8, 4, 1, 0, 0, 0, 9, 0, 8, 0, 1, 1, 9, 8, 9, 2, 3, 5, 3, 9, 4, 2, 1, 9, 4, 3, 9, 0, 0, 4, 0, 0, 0, 1, 2, 8, 4, 7, 8, 9, 0, 1, 2, 8, 4, 7, 8, 9, 0, 1, 2, 8, 1, 0, 5, 1, 8, 9, 8, 3, 4, 2, 8, 0, 8, 1, 0, 9, 1, 1, 9, 3, 8, 4, 1, 8, 0, 9, 0, 1, 5, 4, 0, 2, 0, 8, 2, 1, 1, 1, 1, 1, 2, 4, 1, 5, 2, 9, 4, 5, 8, 4, 8, 9, 7, 0, 0, 7, 0, 1, 1, 7, 5, 0, 6, 8, 2, 2, 7, 7, 4, 0, 2, 4, 2, 1, 8, 9, 0, 1, 0, 0, 9, 6, 9, 8, 0, 8, 0, 8, 8, 9, 6, 3, 0, 1, 2, 3, 4, 5, 0, 7, 0, 1, 2, 3, 4, 5, 0, 7, 8, 9, 8, 1, 2, 3, 4, 5, 6, 7, 8, 5, 4, 8, 7, 4, 1, 2, 3, 9, 4, 8, 3, 1, 3, 8, 2, 2, 4, 2, 1, 5, 4, 5, 5, 8, 6, 4, 4, 4, 1, 8, 7, 3, 5, 1, 8, 9, 1, 3, 6, 3, 3, 2, 2, 0, 9, 9, 0, 5, 5, 3, 3, 8, 1, 6, 5, 0, 8, 1, 9, 1, 0, 8, 3, 7, 4, 2, 0, 9, 0, 0, 3, 2, 9, 3, 0, 2, 0, 1, 0, 1, 0, 4, 0, 1, 0, 4, 7, 9, 0, 2, 4, 2, 2, 9, 9, 0, 1, 2, 3, 4, 3, 0, 1, 8, 9, 0, 1, 2, 2, 4, 3, 6, 1, 8, 9, 0, 1, 2, 3, 4, 5, 6, 1, 8, 9, 8, 0, 3, 6, 6, 0, 8, 0, 2, 3, 2, 9, 4, 1, 1, 9, 0, 7, 1, 4, 0, 0, 4, 1, 1, 3, 1, 1, 3, 3, 3, 6, 0, 9, 1, 4, 3, 0, 2, 3, 2, 6, 0, 8, 9, 4, 3, 3, 4, 8, 1, 3, 9, 0, 6, 4, 3, 6, 3, 3, 8, 1, 4, 7, 1, 1, 2, 2, 0, 0, 1, 7, 7, 9, 5, 9, 8, 9, 4, 8, 8, 2, 3, 2, 1, 2, 9, 8, 9, 3, 2, 6, 2, 4, 8, 4, 6, 3, 0, 1, 5, 6, 1, 8, 9, 0, 1, 2, 3, 4, 3, 0, 1, 8, 9, 0, 1, 2, 3, 4, 5, 0, 0, 8, 9, 1, 4, 2, 0, 9, 0, 1, 0, 8, 8, 0, 2, 1, 8, 4, 4, 0, 1, 0, 4, 3, 3, 9, 4, 2, 0, 5, 0, 1, 3, 2, 9, 8, 0, 0, 1, 1, 8, 0, 4, 1, 1, 0, 3, 0, 0, 7, 2, 3, 2, 2, 1, 1, 8, 3, 5, 0, 1, 0, 0, 1, 1, 2, 1, 8, 1, 9, 3, 8, 2, 8, 7, 0, 1, 1, 4, 0, 2, 9, 3, 0, 1, 2, 3, 4, 3, 0, 7, 0, 1, 2, 3, 4, 3, 0, 1, 2, 8, 9, 1, 4, 0, 9, 3, 0, 8, 0, 7, 7, 1, 1, 2, 9, 3, 6, 1, 2, 3, 8, 1, 2, 9, 8, 8, 7, 1, 7, 1, 1, 0, 3, 1, 2, 0, 4, 7, 4, 2, 1, 4, 9, 1, 0, 0, 8, 0, 3, 3, 3, 3, 9, 1, 4, 8, 5, 9, 0, 9, 3, 0, 3, 8, 9, 1, 8, 1, 2, 0, 0, 1, 2, 3, 4, 5, 2, 7, 8, 9, 0, 1, 2, 3, 4, 5, 0, 7, 8, 9, 0, 1, 2, 3, 4, 3, 2, 7, 8, 4, 3, 5, 3, 2, 9, 5, 2, 1, 4, 3, 5, 2, 3, 2, 1, 3, 9, 7, 2, 5, 2, 8, 9, 1, 8, 8, 7, 8, 1, 0, 0, 7, 7, 8, 7, 5, 0, 6, 1, 0, 7, 4, 6, 1, 2, 5, 0, 7, 9, 9, 0, 3, 8, 7, 4, 8, 1, 8, 2, 5, 9, 0, 0, 0, 2, 7, 1, 2, 4, 2, 2, 0, 8, 4, 5, 4, 1, 3, 8, 6, 3, 9, 9, 5, 9, 3, 1, 8, 3, 4, 4, 7, 2, 2, 2, 8, 9, 4, 0, 1, 2, 3, 4, 5, 2, 1, 8, 9, 0, 1, 2, 9, 5, 2, 0, 1, 2, 3, 4, 5, 0, 8, 7, 1, 3, 2, 5, 0, 1, 3, 9, 9, 0, 0, 9, 4, 1, 3, 2, 1, 2, 3, 8, 3, 2, 0, 5, 6, 8, 2, 7, 4, 8, 1, 8, 0, 3, 3, 9, 4, 1, 9, 2, 1, 9, 0, 1, 9, 0, 4, 0, 1, 1, 3, 8, 7, 2, 9, 6, 5, 8, 3, 9, 0, 5, 1, 1, 0, 1, 0, 9, 2, 3, 4, 4, 0, 0, 2, 5, 4, 2, 3, 4, 0, 0, 0, 2, 0, 1, 4, 3, 0, 7, 8, 9, 0, 1, 2, 3, 7, 0, 0, 7, 8, 0, 1, 2, 3, 4, 3, 6, 7, 8, 9, 8, 7, 1, 3, 1, 3, 2, 8, 0, 7, 0, 9, 9, 0, 9, 1, 1, 3, 8, 8, 6, 3, 2, 1, 8, 3, 2, 0, 5, 6, 0, 0, 1, 0, 5, 3, 1, 9, 2, 1, 9, 0, 0, 4, 0, 1, 7, 3, 8, 7, 2, 9, 6, 3, 8, 3, 3, 7, 1, 6, 1, 0, 9, 0, 2, 5, 4, 2, 3, 4, 4, 0, 0, 0, 2, 0, 1, 2, 3, 4, 3, 4, 7, 8, 9, 0, 1, 2, 3, 4, 3, 2, 7, 8, 9, 0, 1, 2, 8, 4, 5, 2, 7, 8, 9, 8, 6, 3, 0, 6, 8, 9, 4, 1, 9, 5, 8, 0, 4, 8, 9, 1, 4, 0, 3, 3, 2, 1, 5, 9, 0, 7, 6, 0, 1, 7, 0, 0, 8, 9, 5, 1, 7, 9, 8, 6, 0, 8, 1, 7, 7, 1, 3, 2, 2, 1, 4, 2, 0, 0, 7, 8, 4, 6, 4, 9, 5, 8, 4, 5, 2, 5, 6, 3, 6, 9, 8, 3, 8, 2, 4, 2, 9, 0, 2, 5, 3, 1, 1, 3, 9, 7, 8, 7, 2, 2, 5, 7, 9, 8, 2, 1, 8, 1, 3, 0, 1, 2, 8, 4, 5, 0, 1, 8, 3, 0, 1, 2, 3, 4, 5, 0, 1, 8, 8, 0, 8, 2, 3, 4, 0, 0, 1, 8, 3, 1, 2, 6, 5, 3, 0, 1, 0, 4, 8, 4, 3, 0, 1, 2, 3, 1, 2, 1, 2, 9, 6, 0, 8, 3, 0, 2, 1, 5, 1, 2, 2, 9, 1, 9, 0, 0, 0, 0, 0, 2, 0, 6, 1, 0, 8, 2, 3, 0, 1, 5, 4, 4, 8, 5, 7, 5, 7, 8, 3, 4, 8, 8, 3, 2, 8, 1, 1, 8, 8, 1, 0, 1, 5, 3, 0, 3, 4, 1, 1, 8, 8, 3, 4, 4, 3, 8, 6, 2, 0, 0, 2, 3, 4, 5, 0, 7, 8, 9, 0, 1, 2, 3, 4, 3, 0, 1, 8, 9, 0, 1, 2, 3, 4, 5, 2, 7, 8, 9, 0, 8, 3, 9, 0, 3, 2, 0, 8, 4, 9, 1, 7, 1, 2, 3, 3, 9, 0, 9, 1, 1, 0, 2, 9, 5, 2, 8, 1, 2, 0, 7, 7, 5, 8, 2, 9, 8, 9, 0, 4, 0, 1, 1, 3, 4, 3, 0, 0, 3, 0, 8, 7, 0, 4, 2, 7, 4, 1, 5, 4, 3, 4, 2, 8, 1, 0, 1, 2, 0, 2, 5, 0, 4, 3, 0, 0, 0, 3, 3, 0, 7, 0, 6, 4, 8, 8, 6, 3, 4, 0, 9, 9, 8, 2, 7, 1, 1, 0, 1, 2, 3, 4, 1, 0, 1, 8, 9, 0, 1, 2, 3, 4, 3, 0, 1, 8, 0, 1, 2, 3, 4, 3, 0, 1, 8, 2, 1, 1, 2, 3, 0, 8, 0, 2, 1, 8, 8, 3, 0, 0, 2, 0, 6, 2, 1, 2, 8, 8, 2, 1, 4, 1, 1, 3, 1, 4, 5, 4, 3, 3, 8, 1, 1, 1, 9, 7, 4, 3, 7, 3, 3, 0, 2, 0, 8, 0, 0, 3, 5, 8, 5, 9, 9, 8, 4, 1, 0, 0, 4, 9, 4, 8, 8, 3, 0, 1, 1, 9, 8, 9, 2, 3, 5, 3, 9, 4, 1, 1, 9, 2, 9, 2, 0, 6, 2, 4, 0, 0, 1, 2, 3, 4, 7, 8, 9, 0, 1, 2, 3, 7, 8, 9, 0, 1, 2, 3, 1, 7, 8, 9, 1, 3, 0, 3, 1, 8, 7, 0, 1, 0, 2, 0, 8, 3, 2, 8, 1, 2, 0, 7, 1, 0, 4, 1, 5, 8, 0, 6, 2, 3, 0, 5, 1, 8, 5, 9, 1, 0, 7, 5, 8, 8, 3, 8, 9, 2, 0, 2, 5, 3, 1, 7, 3, 8, 1, 9, 9, 0, 0, 3, 9, 2, 8, 1, 1, 3, 5, 2, 9, 2, 5, 8, 9, 5, 0, 1, 2, 4, 5, 0, 8, 1, 2, 3, 4, 5, 0, 1, 1, 2, 3, 4, 5, 0, 0, 4, 0, 0, 0, 3, 4, 4, 2, 9, 1, 0, 2, 4, 8, 7, 2, 3, 3, 9, 2, 0, 4, 3, 3, 9, 8, 5, 0, 3, 7, 2, 8, 4, 0, 2, 4, 0, 2, 4, 1, 8, 0, 7, 9, 2, 9, 3, 2, 8, 0, 7, 8, 7, 5, 1, 0, 7, 1, 0, 7, 2, 9, 7, 9, 0, 8, 0, 2, 6, 2, 8, 1, 7, 5, 0, 1, 1, 3, 4, 4, 9, 1, 8, 0, 8, 5, 0, 1, 2, 7, 4, 3, 0, 1, 8, 9, 8, 1, 8, 3, 4, 1, 8, 9, 4, 1, 1, 8, 9, 9, 8, 9, 8, 1, 1, 3, 1, 3, 3, 1, 6, 6, 6, 1, 9, 0, 1, 1, 5, 3, 0, 1, 1, 1, 3, 9, 1, 1, 0, 8, 4, 1, 1, 3, 5, 9, 6, 1, 4, 4, 1, 2, 1, 4, 0, 1, 2, 3, 4, 5, 4, 7, 8, 9, 0, 0, 2, 3, 4, 0, 0, 9, 0, 1, 1, 3, 1, 7, 8, 1, 3, 0, 1, 7, 7, 2, 1, 4, 8, 3, 1, 4, 3, 8, 7, 0, 1, 2, 3, 0, 9, 1, 6, 0, 1, 0, 0, 2, 8, 7, 1, 1, 1, 0, 1, 7, 3, 6, 8, 0, 3, 7, 8, 0, 6, 9, 2, 0, 0, 8, 4, 9, 0, 4, 0, 5, 2, 9, 0, 0, 9, 0, 1, 3, 7, 0, 9, 3, 0, 0, 2, 0, 1, 2, 3, 1, 0, 2, 1, 8, 9, 0, 1, 2, 3, 4, 3, 0, 1, 8, 4, 0, 1, 2, 3, 4, 3, 0, 1, 8, 9, 2, 1, 7, 2, 3, 0, 8, 0, 2, 1, 8, 8, 3, 0, 0, 0, 2, 1, 2, 4, 1, 2, 8, 8, 2, 7, 4, 0, 1, 3, 1, 4, 1, 4, 3, 3, 8, 4, 3, 4, 1, 1, 9, 7, 4, 3, 1, 3, 3, 0, 2, 3, 3, 0, 3, 1, 5, 2, 3, 9, 9, 8, 4, 1, 0, 0, 0, 9, 0, 8, 8, 5, 0, 1, 1, 9, 8, 9, 2, 3, 5, 5, 9, 4, 2, 1, 9, 4, 9, 1, 3, 9, 2, 0, 0, 0, 4, 0, 4, 0, 0, 2, 3, 4, 3, 0, 7, 8, 9, 0, 1, 2, 3, 4, 3, 0, 7, 8, 9, 0, 1, 2, 3, 4, 5, 6, 7, 8, 9, 3, 8, 0, 1, 1, 0, 1, 0, 5, 0, 9, 0, 1, 0, 0, 8, 3, 4, 3, 1, 3, 0, 0, 9, 5, 3, 4, 9, 3, 1, 0, 9, 2, 4, 3, 7, 2, 6, 1, 9, 4, 9, 4, 1, 2, 2, 3, 8, 1, 3, 2, 9, 4, 3, 8, 2, 2, 0, 2, 8, 6, 3, 1, 6, 2, 2, 1, 3, 9, 3, 8, 7, 5, 7, 0, 7, 8, 8, 8, 5, 0, 0, 0, 3, 1, 0, 9, 4, 4, 8, 4, 1, 0, 6, 6, 0, 1, 2, 3, 4, 5, 6, 1, 8, 9, 0, 1, 2, 3, 1, 5, 6, 1, 8, 9, 0, 1, 2, 3, 1, 5, 0, 1, 8, 9, 1, 4, 0, 4, 0, 1, 1, 9, 5, 1, 4, 2, 9, 9, 4, 3, 1, 8, 2, 4, 4, 3, 3, 0, 9, 9, 5, 8, 0, 1, 0, 4, 8, 2, 0, 3, 9, 3, 2, 8, 6, 0, 1, 4, 8, 8, 9, 0, 3, 3, 9, 0, 5, 1, 9, 1, 1, 0, 3, 1, 3, 8, 1, 1, 8, 2, 9, 1, 1, 2, 0, 4, 2, 3, 2, 3, 0, 0, 5, 0, 0, 2, 8, 1, 0, 1, 0, 4, 3, 1, 0, 1, 9, 0, 1, 4, 5, 6, 1, 8, 7, 1, 2, 3, 4, 3, 1, 7, 0, 1, 2, 3, 1, 0, 4, 2, 8, 9, 8, 1, 0, 0, 7, 2, 1, 3, 3, 6, 8, 3, 1, 6, 3, 3, 8, 1, 4, 7, 8, 0, 3, 1, 9, 0, 1, 9, 1, 2, 7, 0, 1, 3, 8, 2, 9, 2, 7, 0, 5, 0, 9, 9, 8, 2, 9, 1, 3, 2, 3, 1, 3, 1, 9, 0, 7, 3, 6, 8, 7, 0, 1, 0, 3, 8, 2, 7, 7, 0, 1, 2, 3, 4, 5, 0, 7, 8, 9, 0, 1, 2, 3, 4, 5, 6, 7, 8, 9, 0, 1, 2, 3, 4, 5, 0, 7, 8, 9, 0, 7, 4, 8, 1, 3, 0, 5, 7, 2, 8, 0, 3, 3, 8, 0, 5, 4, 0, 9, 1, 1, 2, 9, 1, 5, 1, 3, 2, 2, 3, 0, 0, 4, 3, 1, 6, 9, 0, 4, 8, 1, 4, 0, 0, 1, 2, 0, 9, 2, 2, 3, 3, 5, 1, 0, 7, 7, 9, 0, 2, 9, 4, 1, 0, 2, 3, 4, 0, 0, 8, 8, 8, 3, 0, 3, 7, 4, 9, 8, 8, 9, 0, 9, 8, 9, 0, 2, 0, 5, 0, 7, 4, 7, 1, 4, 1, 3, 5, 3, 1, 2, 3, 4, 5, 0, 1, 2, 3, 4, 0, 0, 1, 2, 4, 5, 0, 7, 8, 1, 7, 2, 4, 1, 4, 1, 4, 9, 0, 8, 4, 3, 3, 7, 8, 8, 3, 3, 5, 4, 7, 0, 2, 1, 2, 8, 7, 0, 1, 0, 0, 8, 8, 0, 1, 0, 8, 4, 2, 3, 9, 7, 6, 9, 1, 9, 0, 6, 7, 1, 2, 3, 9, 2, 4, 3, 3, 3, 7, 3, 3, 1, 8, 2, 2, 3, 0, 2, 9, 4, 9, 7, 0, 7, 7, 4, 9, 4, 2, 3, 9, 8, 3, 8, 6, 7, 4, 0, 1, 2, 3, 4, 5, 6, 1, 8, 9, 0, 1, 2, 3, 4, 5, 6, 7, 8, 9, 0, 1, 2, 3, 4, 5, 0, 7, 8, 9, 0, 0, 7, 8, 0, 5, 3, 3, 7, 8, 0, 0, 0, 6, 1, 3, 8, 8, 3, 0, 1, 9, 0, 0, 4, 1, 9, 1, 2, 1, 0, 1, 3, 8, 2, 9, 2, 7, 4, 2, 5, 5, 5, 9, 4, 1, 1, 5, 7, 0, 8, 2, 4, 4, 3, 1, 9, 0, 9, 3, 0, 8, 1, 0, 1, 0, 0, 8, 2, 7, 7, 0, 1, 2, 2, 4, 5, 0, 1, 8, 9, 0, 1, 2, 3, 4, 3, 8, 9, 0, 1, 2, 3, 4, 3, 6, 1, 8, 9, 2, 1, 3, 1, 2, 9, 9, 8, 3, 3, 0, 0, 1, 7, 5, 1, 9, 9, 4, 7, 0, 3, 4, 1, 3, 8, 1, 4, 8, 4, 1, 8, 0, 6, 4, 0, 0, 5, 5, 3, 3, 5, 7, 2, 3, 9, 2, 9, 2, 0, 2, 1, 2, 0, 8, 3, 8, 5, 0, 8, 1, 4, 9, 3, 0, 9, 2, 0, 0, 4, 0, 0, 9, 1, 0, 2, 0, 0, 8, 3, 3, 2, 1, 8, 3, 8, 5, 1, 0, 2, 1, 4, 0, 1, 2, 3, 4, 5, 6, 7, 8, 9, 0, 1, 2, 3, 4, 1, 6, 1, 8, 9, 0, 1, 2, 3, 4, 5, 0, 7, 8, 9, 7, 6, 4, 7, 0, 2, 3, 4, 8, 7, 8, 6, 9, 8, 3, 2, 2, 8, 4, 8, 0, 2, 8, 0, 2, 0, 1, 1, 2, 9, 0, 8, 2, 1, 0, 0, 5, 2, 9, 7, 6, 3, 9, 2, 1, 1, 8, 3, 8, 1, 9, 5, 5, 0, 1, 8, 9, 8, 2, 2, 0, 4, 0, 0, 2, 1, 8, 2, 1, 0, 9, 9, 3, 0, 3, 1, 4, 4, 0, 4, 9, 0, 1, 2, 3, 0, 0, 7, 8, 0, 1, 2, 8, 0, 6, 7, 8, 9, 0, 8, 2, 2, 0, 5, 7, 8, 9, 9, 7, 0, 9, 0, 1, 0, 8, 8, 0, 9, 3, 0, 7, 8, 1, 6, 1, 0, 4, 9, 1, 4, 0, 0, 0, 1, 0, 9, 3, 2, 9, 1, 6, 0, 8, 1, 8, 7, 7, 0, 2, 0, 0, 7, 2, 1, 1, 9, 0, 6, 7, 1, 4, 0, 8, 1, 8, 2, 8, 7, 6, 8, 9, 8, 6, 2, 9, 3, 0, 1, 2, 3, 2, 1, 6, 1, 8, 9, 0, 1, 4, 8, 4, 5, 0, 1, 8, 4, 0, 1, 2, 3, 4, 5, 0, 1, 8, 9, 8, 9, 3, 1, 0, 3, 1, 0, 8, 4, 1, 3, 6, 1, 2, 7, 8, 0, 3, 4, 3, 4, 7, 2, 0, 5, 0, 1, 9, 2, 3, 2, 3, 3, 5, 2, 8, 1, 9, 9, 7, 1, 1, 9, 0, 7, 8, 8, 4, 8, 0, 3, 8, 0, 9, 0, 2, 8, 0, 1, 0, 0, 2, 3, 8, 9, 0, 2, 2, 3, 4, 5, 5, 2, 8, 5, 4, 2, 6, 0, 7, 9, 1, 8, 2, 1, 3, 3, 2, 1, 9, 4, 0, 0, 0, 1, 2, 3, 4, 8, 6, 2, 8, 9, 0, 1, 1, 3, 4, 3, 6, 1, 8, 4, 0, 1, 2, 3, 4, 5, 0, 9, 0, 1, 3, 1, 5, 1, 8, 4, 9, 8, 8, 6, 8, 0, 0, 1, 9, 2, 6, 6, 8, 7, 4, 2, 9, 7, 0, 2, 1, 0, 3, 6, 0, 1, 1, 3, 1, 5, 0, 1, 8, 9, 0, 1, 2, 3, 4, 5, 5, 1, 8, 9, 0, 1, 2, 3, 1, 5, 6, 7, 8, 9, 8, 6, 5, 9, 7, 0, 2, 3, 4, 3, 8, 5, 1, 5, 2, 3, 0, 1, 2, 1, 3, 2, 2, 0, 3, 0, 1, 2, 1, 4, 0, 1, 0, 3, 9, 9, 8, 9, 3, 3, 1, 7, 1, 1, 1, 5, 1, 0, 0, 1, 5, 1, 0, 0, 3, 7, 7, 1, 4, 3, 9, 2, 8, 9, 0, 0, 9, 5, 3, 8, 8, 7, 1, 1, 0, 4, 8, 5, 2, 3, 9, 0, 1, 9, 1, 5, 1, 1, 1, 8, 1, 2, 1, 6, 8, 8, 8, 1, 8, 8, 4, 1, 8, 9, 0, 1, 2, 3, 4, 0, 7, 8, 9, 0, 1, 2, 3, 4, 1, 8, 9, 1, 1, 3, 3, 3, 0, 9, 5, 1, 8, 0, 4, 1, 6, 7, 0, 0, 7, 1, 6, 9, 1, 3, 0, 8, 3, 8, 2, 3, 8, 9, 0, 8, 8, 1, 1, 3, 1, 1, 0, 3, 1, 2, 2, 4, 7, 4, 2, 2, 1, 2, 9, 2, 3, 9, 2, 1, 0, 4, 5, 3, 1, 8, 0, 9, 0, 9, 0, 0, 3, 0, 8, 1, 2, 0, 0, 1, 2, 3, 4, 5, 0, 7, 0, 1, 1, 3, 4, 7, 8, 9, 0, 1, 2, 5, 4, 1, 2, 5, 1, 0, 4, 3, 9, 9, 0, 9, 7, 1, 6, 4, 3, 0, 0, 0, 8, 8, 0, 5, 7, 0, 0, 1, 0, 4, 3, 2, 4, 1, 3, 1, 0, 4, 1, 1, 1, 9, 8, 4, 3, 8, 2, 8, 3, 5, 8, 0, 5, 4, 0, 1, 3, 1, 1, 9, 0, 2, 0, 4, 1, 1, 3, 3, 9, 1, 0, 4, 3, 9, 8, 2, 1, 8, 0, 4, 1, 0, 3, 0, 5, 0, 1, 2, 3, 4, 3, 0, 1, 8, 9, 0, 1, 2, 3, 4, 5, 0, 1, 8, 9, 0, 1, 2, 3, 4, 5, 0, 1, 8, 9, 0, 9, 1, 0, 2, 3, 4, 3, 8, 5, 1, 3, 0, 1, 1, 1, 3, 2, 0, 7, 2, 6, 2, 0, 5, 9, 9, 8, 9, 0, 3, 1, 7, 4, 3, 0, 0, 6, 6, 2, 3, 3, 9, 2, 8, 9, 8, 7, 1, 4, 0, 4, 8, 3, 2, 3, 9, 0, 1, 9, 1, 3, 1, 2, 6, 1, 2, 1, 6, 8, 0, 1, 2, 3, 4, 0, 0, 1, 8, 9, 0, 1, 2, 3, 4, 0, 6, 7, 8, 0, 1, 2, 3, 3, 2, 1, 8, 1, 0, 4, 0, 0, 0, 3, 4, 4, 2, 8, 0, 0, 0, 4, 9, 2, 2, 9, 2, 0, 9, 3, 3, 9, 0, 3, 2, 3, 1, 6, 7, 3, 7, 8, 4, 0, 2, 4, 0, 2, 4, 7, 8, 0, 7, 0, 0, 9, 3, 2, 4, 8, 6, 0, 3, 7, 1, 1, 0, 8, 1, 0, 7, 2, 9, 1, 9, 3, 2, 3, 2, 0, 2, 8, 0, 7, 3, 3, 7, 3, 3, 0, 1, 1, 3, 8, 4, 9, 4, 5, 1, 8, 0, 8, 9, 0, 1, 2, 3, 4, 5, 0, 7, 8, 9, 0, 1, 2, 3, 4, 5, 0, 1, 8, 9, 0, 1, 2, 3, 4, 5, 0, 1, 8, 9, 3, 5, 3, 2, 9, 3, 2, 0, 4, 5, 3, 2, 3, 2, 1, 3, 9, 1, 2, 1, 2, 8, 9, 1, 8, 8, 7, 8, 1, 0, 0, 6, 7, 1, 8, 7, 3, 0, 0, 1, 3, 7, 4, 6, 1, 2, 5, 0, 1, 9, 9, 0, 3, 4, 4, 8, 4, 1, 8, 0, 5, 9, 0, 0, 0, 3, 1, 1, 0, 4, 0, 0, 4, 5, 4, 1, 3, 8, 0, 3, 9, 9, 5, 9, 3, 1, 8, 3, 0, 4, 1, 0, 2, 2, 0, 9, 4, 0, 1, 2, 3, 4, 5, 0, 2, 8, 9, 0, 1, 2, 3, 4, 5, 0, 7, 8, 9, 0, 1, 2, 3, 4, 5, 0, 1, 8, 9, 0, 4, 2, 0, 4, 7, 5, 5, 4, 7, 2, 9, 3, 9, 3, 8, 2, 0, 9, 5, 0, 0, 0, 0, 0, 5, 3, 5, 3, 8, 0, 0, 3, 4, 1, 1, 3, 0, 8, 3, 0, 6, 2, 1, 8, 1, 1, 1, 3, 8, 5, 4, 2, 0, 9, 1, 0, 7, 4, 1, 0, 2, 0, 1, 1, 9, 8, 0, 0, 9, 4, 9, 9, 0, 2, 3, 7, 1, 9, 2, 2, 5, 3, 1, 8, 0, 1, 2, 3, 4, 7, 8, 9, 0, 1, 2, 3, 1, 1, 8, 9, 0, 1, 7, 8, 9, 8, 9, 2, 0, 1, 3, 5, 4, 8, 2, 6, 1, 3, 4, 5, 9, 2, 0, 9, 9, 4, 9, 7, 3, 8, 7, 4, 4, 9, 8, 5, 8, 2, 6, 6, 2, 3, 1, 3, 2, 1, 3, 1, 9, 0, 1, 1, 3, 3, 0, 7, 8, 1, 5, 1, 1, 5, 0, 0, 4, 9, 1, 0, 4, 9, 0, 7, 0, 1, 1, 0, 1, 2, 3, 4, 2, 2, 3, 4, 0, 0, 2, 0, 1, 2, 2, 8, 0, 3, 9, 2, 1, 9, 3, 9, 0, 1, 7, 2, 4, 4, 5, 2, 0, 0, 1, 0, 0, 8, 2, 1, 2, 2, 1, 2, 1, 0, 1, 0, 0, 9, 8, 3, 9, 0, 3, 0, 1, 2, 3, 4, 3, 0, 1, 8, 9, 0, 8, 2, 3, 4, 5, 0, 1, 8, 9, 0, 1, 2, 3, 4, 5, 0, 0, 8, 9, 1, 2, 8, 9, 9, 0, 1, 2, 4, 4, 3, 1, 4, 4, 4, 0, 3, 8, 1, 5, 8, 2, 1, 0, 5, 3, 8, 5, 2, 5, 1, 1, 5, 2, 1, 3, 8, 2, 1, 2, 0, 2, 5, 5, 0, 2, 8, 0, 0, 8, 1, 1, 9, 1, 9, 2, 6, 1, 6, 6, 8, 1, 4, 9, 2, 1, 3, 3, 0, 3, 5, 8, 0, 3, 1, 9, 1, 0, 2, 1, 9, 1, 1, 8, 0, 3, 5, 3, 0, 0, 1, 2, 3, 1, 5, 0, 7, 8, 9, 0, 1, 2, 3, 1, 3, 4, 7, 8, 9, 0, 1, 2, 3, 4, 1, 8, 9, 0, 4, 8, 6, 4, 1, 8, 9, 2, 9, 3, 9, 3, 0, 0, 1, 0, 4, 2, 0, 3, 5, 3, 0, 3, 1, 1, 0, 3, 0, 8, 3, 0, 0, 1, 1, 8, 0, 9, 2, 0, 7, 1, 9, 0, 9, 4, 9, 9, 0, 7, 1, 2, 3, 3, 7, 8, 0, 1, 2, 4, 5, 0, 1, 8, 9, 0, 1, 3, 4, 5, 0, 1, 5, 0, 1, 3, 4, 2, 8, 9, 1, 5, 5, 1, 9, 9, 1, 1, 0, 0, 3, 9, 0, 1, 0, 2, 2, 3, 0, 8, 3, 2, 0, 0, 0, 1, 1, 5, 8, 6, 2, 9, 4, 8, 8, 1, 1, 0, 8, 1, 1, 5, 8, 5, 3, 4, 0, 1, 1, 5, 5, 0, 2, 2, 3, 0, 4, 1, 2, 4, 1, 5, 4, 2, 0, 4, 8, 0, 1, 9, 0, 2, 3, 0, 9, 3, 6, 3, 6, 0, 1, 2, 3, 4, 3, 0, 1, 8, 9, 0, 1, 2, 3, 4, 8, 0, 1, 8, 9, 0, 1, 2, 3, 5, 0, 1, 8, 1, 0, 9, 3, 7, 5, 1, 8, 0, 9, 0, 4, 1, 9, 3, 8, 4, 4, 2, 0, 1, 9, 2, 8, 3, 8, 2, 3, 9, 0, 0, 2, 3, 5, 3, 3, 3, 9, 8, 1, 1, 0, 6, 1, 0, 0, 0, 2, 1, 1, 3, 0, 7, 7, 8, 5, 3, 8, 4, 6, 0, 1, 0, 7, 0, 3, 0, 8, 7, 1, 3, 9, 9, 3, 7, 2, 4, 9, 4, 3, 0, 2, 2, 5, 3, 2, 5, 5, 9, 4, 1, 1, 2, 0, 1, 2, 3, 4, 5, 0, 7, 8, 9, 0, 1, 2, 3, 4, 5, 0, 7, 8, 9, 0, 1, 2, 3, 4, 0, 4, 1, 8, 9, 1, 0, 1, 2, 7, 3, 3, 4, 4, 0, 0, 2, 9, 0, 0, 5, 7, 2, 3, 4, 4, 9, 1, 4, 0, 1, 9, 3, 1, 2, 3, 1, 4, 4, 0, 9, 9, 0, 1, 8, 3, 3, 7, 3, 9, 8, 8, 4, 1, 1, 0, 2, 1, 9, 8, 1, 8, 8, 7, 2, 2, 3, 9, 3, 3, 5, 4, 0, 1, 4, 5, 0, 5, 1, 4, 1, 1, 0, 8, 2, 2, 1, 0, 0, 1, 2, 3, 1, 0, 6, 1, 8, 9, 0, 1, 2, 3, 1, 3, 6, 2, 8, 9, 0, 1, 2, 5, 4, 5, 6, 2, 8, 8, 0, 6, 0, 1, 2, 3, 7, 9, 4, 7, 1, 7, 1, 1, 1, 4, 0, 0, 1, 1, 5, 7, 1, 3, 3, 3, 1, 0, 9, 7, 1, 3, 0, 2, 6, 0, 8, 9, 4, 3, 5, 4, 8, 1, 5, 9, 0, 0, 5, 3, 8, 0, 4, 1, 5, 2, 0, 0, 1, 7, 8, 7, 6, 8, 8, 2, 3, 3, 1, 2, 9, 5, 2, 0, 1, 2, 3, 4, 5, 6, 7, 8, 9, 0, 1, 5, 3, 1, 5, 5, 7, 8, 9, 0, 1, 2, 3, 4, 6, 1, 7, 8, 9, 7, 7, 5, 1, 4, 0, 4, 9, 3, 7, 8, 8, 7, 8, 8, 6, 3, 2, 8, 0, 5, 8, 5, 0, 3, 8, 1, 0, 3, 0, 9, 1, 1, 9, 0, 9, 0, 7, 1, 7, 1, 5, 6, 5, 6, 8, 8, 7, 6, 4, 9, 9, 5, 3, 7, 4, 3, 0, 1, 6, 0, 1, 1, 3, 2, 1, 0, 0, 1, 2, 3, 4, 1, 8, 4, 0, 1, 2, 3, 4, 5, 6, 7, 8, 0, 1, 2, 3, 4, 1, 8, 9, 0, 8, 3, 9, 5, 5, 2, 6, 8, 4, 1, 2, 1, 1, 2, 3, 0, 9, 1, 1, 1, 1, 1, 2, 0, 1, 7, 5, 8, 2, 9, 8, 8, 7, 3, 4, 6, 8, 7, 0, 1, 2, 2, 1, 5, 4, 3, 4, 2, 8, 1, 5, 1, 0, 2, 3, 3, 5, 7, 0, 1, 8, 8, 3, 9, 9, 8, 2, 7, 1, 1, 0, 1, 1, 8, 9, 0, 1, 2, 3, 4, 3, 0, 7, 8, 0, 1, 2, 3, 4, 7, 8, 9, 7, 8, 0, 4, 1, 9, 3, 8, 4, 4, 7, 0, 1, 9, 2, 8, 7, 8, 2, 0, 0, 6, 8, 3, 5, 9, 9, 1, 4, 0, 0, 1, 0, 0, 0, 8, 1, 1, 7, 7, 8, 4, 0, 0, 1, 0, 3, 0, 8, 1, 1, 5, 2, 4, 9, 4, 3, 0, 4, 1, 7, 3, 6, 6, 0, 1, 2, 3, 4, 5, 0, 1, 8, 4, 0, 1, 2, 3, 4, 0, 0]\n"
          ]
        }
      ]
    },
    {
      "cell_type": "code",
      "source": [
        "conf_obj = confusion_matrix(y_test,y_pred)"
      ],
      "metadata": {
        "id": "2p0vy4bHH7qs"
      },
      "execution_count": 40,
      "outputs": []
    },
    {
      "cell_type": "code",
      "source": [
        "sns.heatmap(conf_obj)\n",
        "plt.ylabel('true')\n",
        "plt.xlabel('pred')"
      ],
      "metadata": {
        "colab": {
          "base_uri": "https://localhost:8080/",
          "height": 466
        },
        "id": "KWIk7bPXIZUD",
        "outputId": "29b67e72-3eb0-4be8-a4cd-959672f2343f"
      },
      "execution_count": 42,
      "outputs": [
        {
          "output_type": "execute_result",
          "data": {
            "text/plain": [
              "Text(0.5, 23.52222222222222, 'pred')"
            ]
          },
          "metadata": {},
          "execution_count": 42
        },
        {
          "output_type": "display_data",
          "data": {
            "text/plain": [
              "<Figure size 640x480 with 2 Axes>"
            ],
            "image/png": "[encoded data removed]"
          },
          "metadata": {}
        }
      ]
    },
    {
      "cell_type": "code",
      "source": [
        "# predictor"
      ],
      "metadata": {
        "id": "0vnClYhaIe0e"
      },
      "execution_count": 43,
      "outputs": []
    },
    {
      "cell_type": "code",
      "source": [
        "img = \"/content/Screenshot 2024-04-04 110925.png\"\n",
        "img = cv2.imread(img)"
      ],
      "metadata": {
        "id": "YYcoSGyjJQgC"
      },
      "execution_count": 56,
      "outputs": []
    },
    {
      "cell_type": "code",
      "source": [
        "img.shape"
      ],
      "metadata": {
        "colab": {
          "base_uri": "https://localhost:8080/"
        },
        "id": "iDmfWaTUJ9j8",
        "outputId": "d35ca88c-91c4-46f6-ec12-b17250391bd6"
      },
      "execution_count": 57,
      "outputs": [
        {
          "output_type": "execute_result",
          "data": {
            "text/plain": [
              "(677, 808, 3)"
            ]
          },
          "metadata": {},
          "execution_count": 57
        }
      ]
    },
    {
      "cell_type": "code",
      "source": [
        "img = cv2.cvtColor(img,cv2.COLOR_RGB2GRAY)\n",
        "img = cv2.resize(img,(28,28))"
      ],
      "metadata": {
        "id": "dMkfUrYnKATW"
      },
      "execution_count": 60,
      "outputs": []
    },
    {
      "cell_type": "code",
      "source": [
        "cv2_imshow(img)"
      ],
      "metadata": {
        "colab": {
          "base_uri": "https://localhost:8080/",
          "height": 45
        },
        "id": "8pLzNekhKp9I",
        "outputId": "cc7bcd87-6ec2-45f6-c96f-46180365fa1b"
      },
      "execution_count": 63,
      "outputs": [
        {
          "output_type": "display_data",
          "data": {
            "text/plain": [
              "<PIL.Image.Image image mode=L size=28x28>"
            ],
            "image/png": "[encoded data removed]"
          },
          "metadata": {}
        }
      ]
    },
    {
      "cell_type": "code",
      "source": [
        "img = np.reshape(img,[1,28,28])"
      ],
      "metadata": {
        "id": "J00GWtSULBmO"
      },
      "execution_count": 64,
      "outputs": []
    },
    {
      "cell_type": "code",
      "source": [
        "pred = model.predict(img)"
      ],
      "metadata": {
        "colab": {
          "base_uri": "https://localhost:8080/"
        },
        "id": "wUKh9q3hMupF",
        "outputId": "1ce9944c-4b6b-460f-f6e5-0ba28c76e1f1"
      },
      "execution_count": 65,
      "outputs": [
        {
          "output_type": "stream",
          "name": "stdout",
          "text": [
            "1/1 [==============================] - 0s 41ms/step\n"
          ]
        }
      ]
    },
    {
      "cell_type": "code",
      "source": [
        "print(np.argmax(pred))"
      ],
      "metadata": {
        "colab": {
          "base_uri": "https://localhost:8080/"
        },
        "id": "Ks7G3ojPMzC6",
        "outputId": "6e4e1986-da4b-4269-b36c-1cd50cf28051"
      },
      "execution_count": 67,
      "outputs": [
        {
          "output_type": "stream",
          "name": "stdout",
          "text": [
            "8\n"
          ]
        }
      ]
    },
    {
      "cell_type": "code",
      "source": [],
      "metadata": {
        "id": "LwdL86wJM4z0"
      },
      "execution_count": null,
      "outputs": []
    }
  ]
}